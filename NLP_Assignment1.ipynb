{
  "nbformat": 4,
  "nbformat_minor": 0,
  "metadata": {
    "colab": {
      "name": "NLP_Assignment1.ipynb",
      "provenance": [],
      "collapsed_sections": [],
      "authorship_tag": "ABX9TyPXzj1t+cKTFY9EbjWO6IA8"
    },
    "kernelspec": {
      "name": "python3",
      "display_name": "Python 3"
    },
    "language_info": {
      "name": "python"
    }
  },
  "cells": [
    {
      "cell_type": "code",
      "source": [
        "import nltk\n",
        "import numpy as np\n",
        "nltk.download('wordnet')\n",
        "nltk.download('stopwords')\n",
        "from nltk.stem import PorterStemmer\n",
        "from nltk.stem import WordNetLemmatizer\n",
        "from nltk.corpus import stopwords\n",
        "from nltk.tokenize import word_tokenize\n",
        "from nltk.corpus import webtext\n",
        "from nltk import FreqDist"
      ],
      "metadata": {
        "colab": {
          "base_uri": "https://localhost:8080/"
        },
        "id": "SnBYbB4yJDFG",
        "outputId": "9cb0ce4a-c8bf-4ac2-9871-4e532c33b797"
      },
      "execution_count": null,
      "outputs": [
        {
          "output_type": "stream",
          "name": "stderr",
          "text": [
            "[nltk_data] Downloading package wordnet to /root/nltk_data...\n",
            "[nltk_data]   Package wordnet is already up-to-date!\n",
            "[nltk_data] Downloading package stopwords to /root/nltk_data...\n",
            "[nltk_data]   Package stopwords is already up-to-date!\n"
          ]
        }
      ]
    },
    {
      "cell_type": "markdown",
      "source": [
        "<b><h4>\n",
        "1. Find stem and lemma words for the given words?\n",
        "\n",
        "“cats\"\n",
        "\"trouble\"\n",
        "\"troubling\"\n",
        "\"troubled\"\n",
        "“having”\n",
        "“Corriendo”\n",
        "“at”\n",
        "“was”\n",
        "</h4></b>"
      ],
      "metadata": {
        "id": "_dJNL2z6FeDz"
      }
    },
    {
      "cell_type": "code",
      "execution_count": null,
      "metadata": {
        "id": "x0nnZ5Ldy6HU",
        "colab": {
          "base_uri": "https://localhost:8080/"
        },
        "outputId": "a073cf7d-4029-41ad-bae0-216842a8da3c"
      },
      "outputs": [
        {
          "output_type": "stream",
          "name": "stdout",
          "text": [
            "Word        Stem Word   Lemma Word  \n",
            "cats        cat         cat         \n",
            "trouble     troubl      trouble     \n",
            "troubling   troubl      troubling   \n",
            "troubled    troubl      troubled    \n",
            "having      have        having      \n",
            "Corriendo   corriendo   Corriendo   \n",
            "at          at          at          \n",
            "was         wa          wa          \n"
          ]
        }
      ],
      "source": [
        "st = PorterStemmer()\n",
        "lemma = WordNetLemmatizer()\n",
        "words = [\"cats\", \"trouble\", \"troubling\", \"troubled\", \"having\", \"Corriendo\", \"at\", \"was\"]\n",
        "print(\"{:<12}{:<12}{:<12}\".format(\"Word\",\"Stem Word\", \"Lemma Word\"))\n",
        "for word in words:\n",
        "    print(\"{:<12}{:<12}{:<12}\".format(word,st.stem(word),lemma.lemmatize(word)))"
      ]
    },
    {
      "cell_type": "markdown",
      "source": [
        "<b><h4>\n",
        "2. Find stop words and BOW from the given paragraph.\n",
        "“The NLTK library is one of the oldest and most commonly used Python libraries for Natural Language Processing. NLTK supports stop word removal, and you can find the list of stop words in the corpus module. To remove stop words from a sentence, you can divide your text into words and then remove the word if it exits in the list of stop words provided by NLTK.”\n",
        "</h4></b>"
      ],
      "metadata": {
        "id": "aXF2BnTbF_ws"
      }
    },
    {
      "cell_type": "code",
      "source": [
        "text = \"The NLTK library is one of the oldest and most commonly used Python libraries for Natural Language Processing. NLTK supports stop word removal, and you can find the list of stop words in the corpus module. To remove stop words from a sentence, you can divide your text into words and then remove the word if it exits in the list of stop words provided by NLTK.\"\n",
        "word_tokens = np.unique(word_tokenize(text))\n",
        "stop_words = [word for word in word_tokens if word in stopwords.words('english')]\n",
        "bag_words = [word for word in word_tokens if not word.lower() in stopwords.words('english')]\n",
        "print(\"Stop Words : \" , stop_words)\n",
        "print(\"Bag of Words : \" , bag_words)"
      ],
      "metadata": {
        "colab": {
          "base_uri": "https://localhost:8080/"
        },
        "id": "LjmC6hlvKl4t",
        "outputId": "b8132471-ab2b-487b-de60-6ee76f9f3352"
      },
      "execution_count": null,
      "outputs": [
        {
          "output_type": "stream",
          "name": "stdout",
          "text": [
            "Stop Words :  ['a', 'and', 'by', 'can', 'for', 'from', 'if', 'in', 'into', 'is', 'it', 'most', 'of', 'the', 'then', 'you', 'your']\n",
            "Bag of Words :  [',', '.', 'Language', 'NLTK', 'Natural', 'Processing', 'Python', 'commonly', 'corpus', 'divide', 'exits', 'find', 'libraries', 'library', 'list', 'module', 'oldest', 'one', 'provided', 'removal', 'remove', 'sentence', 'stop', 'supports', 'text', 'used', 'word', 'words']\n"
          ]
        }
      ]
    },
    {
      "cell_type": "markdown",
      "source": [
        "<b><h4>\n",
        "3. From the above paragraph print frequency of each word using NLTK.\n",
        "</h4></b>"
      ],
      "metadata": {
        "id": "etDIqulFGetV"
      }
    },
    {
      "cell_type": "code",
      "source": [
        "freq = nltk.FreqDist(word_tokens)\n",
        "print(freq.most_common())"
      ],
      "metadata": {
        "colab": {
          "base_uri": "https://localhost:8080/"
        },
        "id": "5zTvT49E3co1",
        "outputId": "6ab2d30e-da4e-415f-fa22-46242c3a27b4"
      },
      "execution_count": null,
      "outputs": [
        {
          "output_type": "stream",
          "name": "stdout",
          "text": [
            "[('the', 5), ('stop', 4), ('words', 4), ('NLTK', 3), ('of', 3), ('and', 3), ('.', 3), ('word', 2), (',', 2), ('you', 2), ('can', 2), ('list', 2), ('in', 2), ('remove', 2), ('The', 1), ('library', 1), ('is', 1), ('one', 1), ('oldest', 1), ('most', 1), ('commonly', 1), ('used', 1), ('Python', 1), ('libraries', 1), ('for', 1), ('Natural', 1), ('Language', 1), ('Processing', 1), ('supports', 1), ('removal', 1), ('find', 1), ('corpus', 1), ('module', 1), ('To', 1), ('from', 1), ('a', 1), ('sentence', 1), ('divide', 1), ('your', 1), ('text', 1), ('into', 1), ('then', 1), ('if', 1), ('it', 1), ('exits', 1), ('provided', 1), ('by', 1)]\n"
          ]
        }
      ]
    }
  ]
}